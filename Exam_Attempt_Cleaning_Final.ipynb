{
  "nbformat": 4,
  "nbformat_minor": 0,
  "metadata": {
    "colab": {
      "name": "Exam_Attempt_Cleaning_Final.ipynb",
      "provenance": [],
      "collapsed_sections": []
    },
    "kernelspec": {
      "name": "python3",
      "display_name": "Python 3"
    },
    "language_info": {
      "name": "python"
    },
    "gpuClass": "standard",
    "accelerator": "GPU"
  },
  "cells": [
    {
      "cell_type": "markdown",
      "source": [
        "**Attempt Log Cleaning File**\n",
        "\n",
        "---\n",
        "\n",
        "\\"
      ],
      "metadata": {
        "id": "EC-1bQU-uEYH"
      }
    },
    {
      "cell_type": "code",
      "source": [
        "# Mount google drive to load the files\n",
        "from google.colab import drive\n",
        "drive.mount('/content/drive')"
      ],
      "metadata": {
        "colab": {
          "base_uri": "https://localhost:8080/"
        },
        "id": "bXbsUClTO9WC",
        "outputId": "cfc622fa-f202-4e4a-c47e-abe28f408516"
      },
      "execution_count": 1,
      "outputs": [
        {
          "output_type": "stream",
          "name": "stdout",
          "text": [
            "Mounted at /content/drive\n"
          ]
        }
      ]
    },
    {
      "cell_type": "code",
      "source": [
        "# Import library \n",
        "import numpy as np\n",
        "from numpy import unique  # can also just use np.unique\n",
        "import pandas as pd"
      ],
      "metadata": {
        "id": "B6S6YWXbP8dE"
      },
      "execution_count": 2,
      "outputs": []
    },
    {
      "cell_type": "markdown",
      "source": [
        "**Loading Files**"
      ],
      "metadata": {
        "id": "9Drk7H-yOBEx"
      }
    },
    {
      "cell_type": "code",
      "source": [
        "# Loading the the Practice Exam file\n",
        "pd.set_option('display.max_columns',None)\n",
        "df = pd.read_csv('/content/drive/MyDrive/Colab Notebooks/Capstone/Consolidated_practice_attempt_log.csv')\n",
        "print(df.shape)"
      ],
      "metadata": {
        "colab": {
          "base_uri": "https://localhost:8080/"
        },
        "id": "PP86DxDTO9Tr",
        "outputId": "f4ab068c-2a80-4de1-ff4b-f03cfbd0354b"
      },
      "execution_count": 20,
      "outputs": [
        {
          "output_type": "stream",
          "name": "stdout",
          "text": [
            "(721718, 20)\n"
          ]
        }
      ]
    },
    {
      "cell_type": "markdown",
      "source": [
        "**Exploratory Descriptive analysis**"
      ],
      "metadata": {
        "id": "Ypxj6WHNOTcV"
      }
    },
    {
      "cell_type": "code",
      "source": [
        "# Year extraction from the column 'Attempt Start'\n",
        "df['Year'] = pd.to_datetime(df['Attempt Start'])\n",
        "df['Year'] = df['Year'].dt.year"
      ],
      "metadata": {
        "id": "p2NjJXHpO9O7"
      },
      "execution_count": 21,
      "outputs": []
    },
    {
      "cell_type": "code",
      "source": [
        "# Detailed info about each column\n",
        "df.info()"
      ],
      "metadata": {
        "colab": {
          "base_uri": "https://localhost:8080/"
        },
        "id": "eAXEqUxgBV8W",
        "outputId": "18f65549-0bea-4d50-8569-1069d4af4f14"
      },
      "execution_count": 22,
      "outputs": [
        {
          "output_type": "stream",
          "name": "stdout",
          "text": [
            "<class 'pandas.core.frame.DataFrame'>\n",
            "RangeIndex: 721718 entries, 0 to 721717\n",
            "Data columns (total 21 columns):\n",
            " #   Column          Non-Null Count   Dtype  \n",
            "---  ------          --------------   -----  \n",
            " 0   Org Defined ID  721718 non-null  int64  \n",
            " 1   Username        721718 non-null  int64  \n",
            " 2   FirstName       721718 non-null  object \n",
            " 3   LastName        721718 non-null  object \n",
            " 4   Attempt #       721718 non-null  int64  \n",
            " 5   Attempt Start   721718 non-null  object \n",
            " 6   Attempt End     721718 non-null  object \n",
            " 7   Section #       234222 non-null  float64\n",
            " 8   Q #             487496 non-null  float64\n",
            " 9   Q Type          487496 non-null  object \n",
            " 10  Q Title         721718 non-null  object \n",
            " 11  Q Text          487496 non-null  object \n",
            " 12  Bonus?          604607 non-null  object \n",
            " 13  Difficulty      487496 non-null  float64\n",
            " 14  Answer          466151 non-null  object \n",
            " 15  Answer Match    470427 non-null  object \n",
            " 16  Score           487496 non-null  float64\n",
            " 17  Out Of          487496 non-null  float64\n",
            " 18  Marks           117111 non-null  float64\n",
            " 19  Total           117111 non-null  float64\n",
            " 20  Year            721718 non-null  int64  \n",
            "dtypes: float64(7), int64(4), object(10)\n",
            "memory usage: 115.6+ MB\n"
          ]
        }
      ]
    },
    {
      "cell_type": "code",
      "source": [
        "#To copy the QType to Summary Row\n",
        "df['Q Type'] = df['Q Type'].ffill(axis = 0)"
      ],
      "metadata": {
        "id": "ePFYw6UKO9Ii"
      },
      "execution_count": 23,
      "outputs": []
    },
    {
      "cell_type": "code",
      "source": [
        "#To copy the Qtext to Summary Row\n",
        "df['Q Text'] = df['Q Text'].ffill(axis = 0)"
      ],
      "metadata": {
        "id": "oJJQVGK6O9EX"
      },
      "execution_count": 24,
      "outputs": []
    },
    {
      "cell_type": "code",
      "source": [
        "#To apply the filter and extract Summary Column from the Q Title Column\n",
        "df = df[df['Q Title']=='Summary:']"
      ],
      "metadata": {
        "id": "sUJrQwnpO9Bm"
      },
      "execution_count": 25,
      "outputs": []
    },
    {
      "cell_type": "code",
      "source": [
        "#Extracting Topic From Bonus Question Field\n",
        "df_topic = df['Bonus?'].str.split(':').str[0]\n",
        "df['Topic'] = df_topic\n",
        "df_topic.head(5)"
      ],
      "metadata": {
        "colab": {
          "base_uri": "https://localhost:8080/"
        },
        "id": "uXH7CDgtO89j",
        "outputId": "145f3ba5-1a63-42a5-cdd3-1b5651e7be59"
      },
      "execution_count": 26,
      "outputs": [
        {
          "output_type": "execute_result",
          "data": {
            "text/plain": [
              "6       CORR \n",
              "12    CLASS1 \n",
              "19     INTRO \n",
              "26      LPSA \n",
              "29       MLR \n",
              "Name: Bonus?, dtype: object"
            ]
          },
          "metadata": {},
          "execution_count": 26
        }
      ]
    },
    {
      "cell_type": "code",
      "source": [
        "#Extracting Question Type From Bonus Question Field\n",
        "df_ques_type = df['Bonus?'].str.split(':').str[1]\n",
        "df['Question Type'] = df_ques_type\n",
        "df_ques_type.head(5)"
      ],
      "metadata": {
        "colab": {
          "base_uri": "https://localhost:8080/"
        },
        "id": "IhLgwaKmO84K",
        "outputId": "8204add6-ba07-4256-b3d0-a07b61c2e05d"
      },
      "execution_count": 27,
      "outputs": [
        {
          "output_type": "execute_result",
          "data": {
            "text/plain": [
              "6      THEORY \n",
              "12       CALC \n",
              "19     THEORY \n",
              "26     THEORY \n",
              "29       CALC \n",
              "Name: Bonus?, dtype: object"
            ]
          },
          "metadata": {},
          "execution_count": 27
        }
      ]
    },
    {
      "cell_type": "code",
      "source": [
        "#Extracting Chapter From Bonus Question Field\n",
        "df_ques_chapter = df['Bonus?'].str.split(':').str[2]\n",
        "df['Chapter'] = df_ques_chapter\n",
        "df_ques_chapter.head(5)"
      ],
      "metadata": {
        "colab": {
          "base_uri": "https://localhost:8080/"
        },
        "id": "8UrLGAbiO6it",
        "outputId": "22be0db8-5b6d-43fe-a8e6-9ce67e803049"
      },
      "execution_count": 28,
      "outputs": [
        {
          "output_type": "execute_result",
          "data": {
            "text/plain": [
              "6                     Correlation symmetry\n",
              "12                         Confusion Table\n",
              "19           Which is not analytics method\n",
              "26     Shadow price non-binding constraint\n",
              "29     Jewelry sales from window and value\n",
              "Name: Bonus?, dtype: object"
            ]
          },
          "metadata": {},
          "execution_count": 28
        }
      ]
    },
    {
      "cell_type": "code",
      "source": [
        "# Dropping the irrelevant rows\n",
        "df.drop_duplicates(subset = ['Bonus?'])\n",
        "df.head()"
      ],
      "metadata": {
        "colab": {
          "base_uri": "https://localhost:8080/",
          "height": 704
        },
        "id": "B7P9xNy2O6fP",
        "outputId": "94a86e14-eecd-4eea-b0c1-7c6b7a2726ce"
      },
      "execution_count": 29,
      "outputs": [
        {
          "output_type": "execute_result",
          "data": {
            "text/plain": [
              "    Org Defined ID  Username FirstName  LastName  Attempt #     Attempt Start  \\\n",
              "6         11111111  22222222  Hmpivxct  Sqcqnoqy          1  04-05-2020 12:10   \n",
              "12        11111111  22222222  Hmpivxct  Sqcqnoqy          1  04-05-2020 12:10   \n",
              "19        11111111  22222222  Hmpivxct  Sqcqnoqy          1  04-05-2020 12:10   \n",
              "26        11111111  22222222  Hmpivxct  Sqcqnoqy          1  04-05-2020 12:10   \n",
              "29        11111111  22222222  Hmpivxct  Sqcqnoqy          1  04-05-2020 12:10   \n",
              "\n",
              "         Attempt End  Section #  Q # Q Type   Q Title  \\\n",
              "6   04-05-2020 12:55        1.0  NaN     MC  Summary:   \n",
              "12  04-05-2020 12:55        2.0  NaN    FIB  Summary:   \n",
              "19  04-05-2020 12:55        3.0  NaN     MC  Summary:   \n",
              "26  04-05-2020 12:55        4.0  NaN     MC  Summary:   \n",
              "29  04-05-2020 12:55        5.0  NaN     SA  Summary:   \n",
              "\n",
              "                                               Q Text  \\\n",
              "6    The linear correlation between attendance and...   \n",
              "12   <p>A construction company has analysed the ye...   \n",
              "19   Which of the following is not a methodology t...   \n",
              "26   In a Linear Programming minimisation problem,...   \n",
              "29   An investor made a market study of jewelry st...   \n",
              "\n",
              "                                               Bonus?  Difficulty Answer  \\\n",
              "6                CORR : THEORY : Correlation symmetry         NaN    NaN   \n",
              "12                    CLASS1 : CALC : Confusion Table         NaN    NaN   \n",
              "19     INTRO : THEORY : Which is not analytics method         NaN    NaN   \n",
              "26  LPSA : THEORY : Shadow price non-binding const...         NaN    NaN   \n",
              "29   MLR : CALC : Jewelry sales from window and value         NaN    NaN   \n",
              "\n",
              "   Answer Match  Score  Out Of  Marks  Total  Year    Topic Question Type  \\\n",
              "6           NaN    NaN     NaN    0.0    2.0  2020    CORR        THEORY    \n",
              "12          NaN    NaN     NaN    0.0    4.0  2020  CLASS1          CALC    \n",
              "19          NaN    NaN     NaN    2.0    2.0  2020   INTRO        THEORY    \n",
              "26          NaN    NaN     NaN    0.0    2.0  2020    LPSA        THEORY    \n",
              "29          NaN    NaN     NaN    0.0    4.0  2020     MLR          CALC    \n",
              "\n",
              "                                 Chapter  \n",
              "6                   Correlation symmetry  \n",
              "12                       Confusion Table  \n",
              "19         Which is not analytics method  \n",
              "26   Shadow price non-binding constraint  \n",
              "29   Jewelry sales from window and value  "
            ],
            "text/html": [
              "\n",
              "  <div id=\"df-4ebd6887-d282-45f4-b4d5-79935cfce340\">\n",
              "    <div class=\"colab-df-container\">\n",
              "      <div>\n",
              "<style scoped>\n",
              "    .dataframe tbody tr th:only-of-type {\n",
              "        vertical-align: middle;\n",
              "    }\n",
              "\n",
              "    .dataframe tbody tr th {\n",
              "        vertical-align: top;\n",
              "    }\n",
              "\n",
              "    .dataframe thead th {\n",
              "        text-align: right;\n",
              "    }\n",
              "</style>\n",
              "<table border=\"1\" class=\"dataframe\">\n",
              "  <thead>\n",
              "    <tr style=\"text-align: right;\">\n",
              "      <th></th>\n",
              "      <th>Org Defined ID</th>\n",
              "      <th>Username</th>\n",
              "      <th>FirstName</th>\n",
              "      <th>LastName</th>\n",
              "      <th>Attempt #</th>\n",
              "      <th>Attempt Start</th>\n",
              "      <th>Attempt End</th>\n",
              "      <th>Section #</th>\n",
              "      <th>Q #</th>\n",
              "      <th>Q Type</th>\n",
              "      <th>Q Title</th>\n",
              "      <th>Q Text</th>\n",
              "      <th>Bonus?</th>\n",
              "      <th>Difficulty</th>\n",
              "      <th>Answer</th>\n",
              "      <th>Answer Match</th>\n",
              "      <th>Score</th>\n",
              "      <th>Out Of</th>\n",
              "      <th>Marks</th>\n",
              "      <th>Total</th>\n",
              "      <th>Year</th>\n",
              "      <th>Topic</th>\n",
              "      <th>Question Type</th>\n",
              "      <th>Chapter</th>\n",
              "    </tr>\n",
              "  </thead>\n",
              "  <tbody>\n",
              "    <tr>\n",
              "      <th>6</th>\n",
              "      <td>11111111</td>\n",
              "      <td>22222222</td>\n",
              "      <td>Hmpivxct</td>\n",
              "      <td>Sqcqnoqy</td>\n",
              "      <td>1</td>\n",
              "      <td>04-05-2020 12:10</td>\n",
              "      <td>04-05-2020 12:55</td>\n",
              "      <td>1.0</td>\n",
              "      <td>NaN</td>\n",
              "      <td>MC</td>\n",
              "      <td>Summary:</td>\n",
              "      <td>The linear correlation between attendance and...</td>\n",
              "      <td>CORR : THEORY : Correlation symmetry</td>\n",
              "      <td>NaN</td>\n",
              "      <td>NaN</td>\n",
              "      <td>NaN</td>\n",
              "      <td>NaN</td>\n",
              "      <td>NaN</td>\n",
              "      <td>0.0</td>\n",
              "      <td>2.0</td>\n",
              "      <td>2020</td>\n",
              "      <td>CORR</td>\n",
              "      <td>THEORY</td>\n",
              "      <td>Correlation symmetry</td>\n",
              "    </tr>\n",
              "    <tr>\n",
              "      <th>12</th>\n",
              "      <td>11111111</td>\n",
              "      <td>22222222</td>\n",
              "      <td>Hmpivxct</td>\n",
              "      <td>Sqcqnoqy</td>\n",
              "      <td>1</td>\n",
              "      <td>04-05-2020 12:10</td>\n",
              "      <td>04-05-2020 12:55</td>\n",
              "      <td>2.0</td>\n",
              "      <td>NaN</td>\n",
              "      <td>FIB</td>\n",
              "      <td>Summary:</td>\n",
              "      <td>&lt;p&gt;A construction company has analysed the ye...</td>\n",
              "      <td>CLASS1 : CALC : Confusion Table</td>\n",
              "      <td>NaN</td>\n",
              "      <td>NaN</td>\n",
              "      <td>NaN</td>\n",
              "      <td>NaN</td>\n",
              "      <td>NaN</td>\n",
              "      <td>0.0</td>\n",
              "      <td>4.0</td>\n",
              "      <td>2020</td>\n",
              "      <td>CLASS1</td>\n",
              "      <td>CALC</td>\n",
              "      <td>Confusion Table</td>\n",
              "    </tr>\n",
              "    <tr>\n",
              "      <th>19</th>\n",
              "      <td>11111111</td>\n",
              "      <td>22222222</td>\n",
              "      <td>Hmpivxct</td>\n",
              "      <td>Sqcqnoqy</td>\n",
              "      <td>1</td>\n",
              "      <td>04-05-2020 12:10</td>\n",
              "      <td>04-05-2020 12:55</td>\n",
              "      <td>3.0</td>\n",
              "      <td>NaN</td>\n",
              "      <td>MC</td>\n",
              "      <td>Summary:</td>\n",
              "      <td>Which of the following is not a methodology t...</td>\n",
              "      <td>INTRO : THEORY : Which is not analytics method</td>\n",
              "      <td>NaN</td>\n",
              "      <td>NaN</td>\n",
              "      <td>NaN</td>\n",
              "      <td>NaN</td>\n",
              "      <td>NaN</td>\n",
              "      <td>2.0</td>\n",
              "      <td>2.0</td>\n",
              "      <td>2020</td>\n",
              "      <td>INTRO</td>\n",
              "      <td>THEORY</td>\n",
              "      <td>Which is not analytics method</td>\n",
              "    </tr>\n",
              "    <tr>\n",
              "      <th>26</th>\n",
              "      <td>11111111</td>\n",
              "      <td>22222222</td>\n",
              "      <td>Hmpivxct</td>\n",
              "      <td>Sqcqnoqy</td>\n",
              "      <td>1</td>\n",
              "      <td>04-05-2020 12:10</td>\n",
              "      <td>04-05-2020 12:55</td>\n",
              "      <td>4.0</td>\n",
              "      <td>NaN</td>\n",
              "      <td>MC</td>\n",
              "      <td>Summary:</td>\n",
              "      <td>In a Linear Programming minimisation problem,...</td>\n",
              "      <td>LPSA : THEORY : Shadow price non-binding const...</td>\n",
              "      <td>NaN</td>\n",
              "      <td>NaN</td>\n",
              "      <td>NaN</td>\n",
              "      <td>NaN</td>\n",
              "      <td>NaN</td>\n",
              "      <td>0.0</td>\n",
              "      <td>2.0</td>\n",
              "      <td>2020</td>\n",
              "      <td>LPSA</td>\n",
              "      <td>THEORY</td>\n",
              "      <td>Shadow price non-binding constraint</td>\n",
              "    </tr>\n",
              "    <tr>\n",
              "      <th>29</th>\n",
              "      <td>11111111</td>\n",
              "      <td>22222222</td>\n",
              "      <td>Hmpivxct</td>\n",
              "      <td>Sqcqnoqy</td>\n",
              "      <td>1</td>\n",
              "      <td>04-05-2020 12:10</td>\n",
              "      <td>04-05-2020 12:55</td>\n",
              "      <td>5.0</td>\n",
              "      <td>NaN</td>\n",
              "      <td>SA</td>\n",
              "      <td>Summary:</td>\n",
              "      <td>An investor made a market study of jewelry st...</td>\n",
              "      <td>MLR : CALC : Jewelry sales from window and value</td>\n",
              "      <td>NaN</td>\n",
              "      <td>NaN</td>\n",
              "      <td>NaN</td>\n",
              "      <td>NaN</td>\n",
              "      <td>NaN</td>\n",
              "      <td>0.0</td>\n",
              "      <td>4.0</td>\n",
              "      <td>2020</td>\n",
              "      <td>MLR</td>\n",
              "      <td>CALC</td>\n",
              "      <td>Jewelry sales from window and value</td>\n",
              "    </tr>\n",
              "  </tbody>\n",
              "</table>\n",
              "</div>\n",
              "      <button class=\"colab-df-convert\" onclick=\"convertToInteractive('df-4ebd6887-d282-45f4-b4d5-79935cfce340')\"\n",
              "              title=\"Convert this dataframe to an interactive table.\"\n",
              "              style=\"display:none;\">\n",
              "        \n",
              "  <svg xmlns=\"http://www.w3.org/2000/svg\" height=\"24px\"viewBox=\"0 0 24 24\"\n",
              "       width=\"24px\">\n",
              "    <path d=\"M0 0h24v24H0V0z\" fill=\"none\"/>\n",
              "    <path d=\"M18.56 5.44l.94 2.06.94-2.06 2.06-.94-2.06-.94-.94-2.06-.94 2.06-2.06.94zm-11 1L8.5 8.5l.94-2.06 2.06-.94-2.06-.94L8.5 2.5l-.94 2.06-2.06.94zm10 10l.94 2.06.94-2.06 2.06-.94-2.06-.94-.94-2.06-.94 2.06-2.06.94z\"/><path d=\"M17.41 7.96l-1.37-1.37c-.4-.4-.92-.59-1.43-.59-.52 0-1.04.2-1.43.59L10.3 9.45l-7.72 7.72c-.78.78-.78 2.05 0 2.83L4 21.41c.39.39.9.59 1.41.59.51 0 1.02-.2 1.41-.59l7.78-7.78 2.81-2.81c.8-.78.8-2.07 0-2.86zM5.41 20L4 18.59l7.72-7.72 1.47 1.35L5.41 20z\"/>\n",
              "  </svg>\n",
              "      </button>\n",
              "      \n",
              "  <style>\n",
              "    .colab-df-container {\n",
              "      display:flex;\n",
              "      flex-wrap:wrap;\n",
              "      gap: 12px;\n",
              "    }\n",
              "\n",
              "    .colab-df-convert {\n",
              "      background-color: #E8F0FE;\n",
              "      border: none;\n",
              "      border-radius: 50%;\n",
              "      cursor: pointer;\n",
              "      display: none;\n",
              "      fill: #1967D2;\n",
              "      height: 32px;\n",
              "      padding: 0 0 0 0;\n",
              "      width: 32px;\n",
              "    }\n",
              "\n",
              "    .colab-df-convert:hover {\n",
              "      background-color: #E2EBFA;\n",
              "      box-shadow: 0px 1px 2px rgba(60, 64, 67, 0.3), 0px 1px 3px 1px rgba(60, 64, 67, 0.15);\n",
              "      fill: #174EA6;\n",
              "    }\n",
              "\n",
              "    [theme=dark] .colab-df-convert {\n",
              "      background-color: #3B4455;\n",
              "      fill: #D2E3FC;\n",
              "    }\n",
              "\n",
              "    [theme=dark] .colab-df-convert:hover {\n",
              "      background-color: #434B5C;\n",
              "      box-shadow: 0px 1px 3px 1px rgba(0, 0, 0, 0.15);\n",
              "      filter: drop-shadow(0px 1px 2px rgba(0, 0, 0, 0.3));\n",
              "      fill: #FFFFFF;\n",
              "    }\n",
              "  </style>\n",
              "\n",
              "      <script>\n",
              "        const buttonEl =\n",
              "          document.querySelector('#df-4ebd6887-d282-45f4-b4d5-79935cfce340 button.colab-df-convert');\n",
              "        buttonEl.style.display =\n",
              "          google.colab.kernel.accessAllowed ? 'block' : 'none';\n",
              "\n",
              "        async function convertToInteractive(key) {\n",
              "          const element = document.querySelector('#df-4ebd6887-d282-45f4-b4d5-79935cfce340');\n",
              "          const dataTable =\n",
              "            await google.colab.kernel.invokeFunction('convertToInteractive',\n",
              "                                                     [key], {});\n",
              "          if (!dataTable) return;\n",
              "\n",
              "          const docLinkHtml = 'Like what you see? Visit the ' +\n",
              "            '<a target=\"_blank\" href=https://colab.research.google.com/notebooks/data_table.ipynb>data table notebook</a>'\n",
              "            + ' to learn more about interactive tables.';\n",
              "          element.innerHTML = '';\n",
              "          dataTable['output_type'] = 'display_data';\n",
              "          await google.colab.output.renderOutput(dataTable, element);\n",
              "          const docLink = document.createElement('div');\n",
              "          docLink.innerHTML = docLinkHtml;\n",
              "          element.appendChild(docLink);\n",
              "        }\n",
              "      </script>\n",
              "    </div>\n",
              "  </div>\n",
              "  "
            ]
          },
          "metadata": {},
          "execution_count": 29
        }
      ]
    },
    {
      "cell_type": "code",
      "source": [
        "#Generating Unique IDs for the questions\n",
        "df= df.assign(id=(df['Bonus?'].astype('category').cat.codes))\n",
        "df['id'] = df['id'].astype(int) + 1"
      ],
      "metadata": {
        "id": "m7gjPOWKO6Xz"
      },
      "execution_count": 30,
      "outputs": []
    },
    {
      "cell_type": "code",
      "source": [
        "# Concatenating the Firstname and Lastname into a single column \n",
        "df['User'] = df['FirstName']  + ' '  + df['LastName']"
      ],
      "metadata": {
        "id": "VO-22wibO6VW"
      },
      "execution_count": 31,
      "outputs": []
    },
    {
      "cell_type": "code",
      "source": [
        "# Dropping the redundant columns\n",
        "df.drop(['Q #', 'Q Title', 'Difficulty', 'Answer', 'Answer Match', 'Score', 'Out Of', 'FirstName', 'LastName', 'Q Text'], axis=1, inplace=True)"
      ],
      "metadata": {
        "id": "BZn0hGJYO6TG"
      },
      "execution_count": 32,
      "outputs": []
    },
    {
      "cell_type": "code",
      "source": [
        "df.head()"
      ],
      "metadata": {
        "colab": {
          "base_uri": "https://localhost:8080/",
          "height": 669
        },
        "id": "BjVDZGN6r6E5",
        "outputId": "bd95a647-d29a-4bdc-bfca-17dce9401423"
      },
      "execution_count": 33,
      "outputs": [
        {
          "output_type": "execute_result",
          "data": {
            "text/plain": [
              "    Org Defined ID  Username  Attempt #     Attempt Start       Attempt End  \\\n",
              "6         11111111  22222222          1  04-05-2020 12:10  04-05-2020 12:55   \n",
              "12        11111111  22222222          1  04-05-2020 12:10  04-05-2020 12:55   \n",
              "19        11111111  22222222          1  04-05-2020 12:10  04-05-2020 12:55   \n",
              "26        11111111  22222222          1  04-05-2020 12:10  04-05-2020 12:55   \n",
              "29        11111111  22222222          1  04-05-2020 12:10  04-05-2020 12:55   \n",
              "\n",
              "    Section # Q Type                                             Bonus?  \\\n",
              "6         1.0     MC               CORR : THEORY : Correlation symmetry   \n",
              "12        2.0    FIB                    CLASS1 : CALC : Confusion Table   \n",
              "19        3.0     MC     INTRO : THEORY : Which is not analytics method   \n",
              "26        4.0     MC  LPSA : THEORY : Shadow price non-binding const...   \n",
              "29        5.0     SA   MLR : CALC : Jewelry sales from window and value   \n",
              "\n",
              "    Marks  Total  Year    Topic Question Type  \\\n",
              "6     0.0    2.0  2020    CORR        THEORY    \n",
              "12    0.0    4.0  2020  CLASS1          CALC    \n",
              "19    2.0    2.0  2020   INTRO        THEORY    \n",
              "26    0.0    2.0  2020    LPSA        THEORY    \n",
              "29    0.0    4.0  2020     MLR          CALC    \n",
              "\n",
              "                                 Chapter  id               User  \n",
              "6                   Correlation symmetry  19  Hmpivxct Sqcqnoqy  \n",
              "12                       Confusion Table   2  Hmpivxct Sqcqnoqy  \n",
              "19         Which is not analytics method  28  Hmpivxct Sqcqnoqy  \n",
              "26   Shadow price non-binding constraint  41  Hmpivxct Sqcqnoqy  \n",
              "29   Jewelry sales from window and value  60  Hmpivxct Sqcqnoqy  "
            ],
            "text/html": [
              "\n",
              "  <div id=\"df-c57dbc93-0d55-4bd8-aaa0-7f7094baff10\">\n",
              "    <div class=\"colab-df-container\">\n",
              "      <div>\n",
              "<style scoped>\n",
              "    .dataframe tbody tr th:only-of-type {\n",
              "        vertical-align: middle;\n",
              "    }\n",
              "\n",
              "    .dataframe tbody tr th {\n",
              "        vertical-align: top;\n",
              "    }\n",
              "\n",
              "    .dataframe thead th {\n",
              "        text-align: right;\n",
              "    }\n",
              "</style>\n",
              "<table border=\"1\" class=\"dataframe\">\n",
              "  <thead>\n",
              "    <tr style=\"text-align: right;\">\n",
              "      <th></th>\n",
              "      <th>Org Defined ID</th>\n",
              "      <th>Username</th>\n",
              "      <th>Attempt #</th>\n",
              "      <th>Attempt Start</th>\n",
              "      <th>Attempt End</th>\n",
              "      <th>Section #</th>\n",
              "      <th>Q Type</th>\n",
              "      <th>Bonus?</th>\n",
              "      <th>Marks</th>\n",
              "      <th>Total</th>\n",
              "      <th>Year</th>\n",
              "      <th>Topic</th>\n",
              "      <th>Question Type</th>\n",
              "      <th>Chapter</th>\n",
              "      <th>id</th>\n",
              "      <th>User</th>\n",
              "    </tr>\n",
              "  </thead>\n",
              "  <tbody>\n",
              "    <tr>\n",
              "      <th>6</th>\n",
              "      <td>11111111</td>\n",
              "      <td>22222222</td>\n",
              "      <td>1</td>\n",
              "      <td>04-05-2020 12:10</td>\n",
              "      <td>04-05-2020 12:55</td>\n",
              "      <td>1.0</td>\n",
              "      <td>MC</td>\n",
              "      <td>CORR : THEORY : Correlation symmetry</td>\n",
              "      <td>0.0</td>\n",
              "      <td>2.0</td>\n",
              "      <td>2020</td>\n",
              "      <td>CORR</td>\n",
              "      <td>THEORY</td>\n",
              "      <td>Correlation symmetry</td>\n",
              "      <td>19</td>\n",
              "      <td>Hmpivxct Sqcqnoqy</td>\n",
              "    </tr>\n",
              "    <tr>\n",
              "      <th>12</th>\n",
              "      <td>11111111</td>\n",
              "      <td>22222222</td>\n",
              "      <td>1</td>\n",
              "      <td>04-05-2020 12:10</td>\n",
              "      <td>04-05-2020 12:55</td>\n",
              "      <td>2.0</td>\n",
              "      <td>FIB</td>\n",
              "      <td>CLASS1 : CALC : Confusion Table</td>\n",
              "      <td>0.0</td>\n",
              "      <td>4.0</td>\n",
              "      <td>2020</td>\n",
              "      <td>CLASS1</td>\n",
              "      <td>CALC</td>\n",
              "      <td>Confusion Table</td>\n",
              "      <td>2</td>\n",
              "      <td>Hmpivxct Sqcqnoqy</td>\n",
              "    </tr>\n",
              "    <tr>\n",
              "      <th>19</th>\n",
              "      <td>11111111</td>\n",
              "      <td>22222222</td>\n",
              "      <td>1</td>\n",
              "      <td>04-05-2020 12:10</td>\n",
              "      <td>04-05-2020 12:55</td>\n",
              "      <td>3.0</td>\n",
              "      <td>MC</td>\n",
              "      <td>INTRO : THEORY : Which is not analytics method</td>\n",
              "      <td>2.0</td>\n",
              "      <td>2.0</td>\n",
              "      <td>2020</td>\n",
              "      <td>INTRO</td>\n",
              "      <td>THEORY</td>\n",
              "      <td>Which is not analytics method</td>\n",
              "      <td>28</td>\n",
              "      <td>Hmpivxct Sqcqnoqy</td>\n",
              "    </tr>\n",
              "    <tr>\n",
              "      <th>26</th>\n",
              "      <td>11111111</td>\n",
              "      <td>22222222</td>\n",
              "      <td>1</td>\n",
              "      <td>04-05-2020 12:10</td>\n",
              "      <td>04-05-2020 12:55</td>\n",
              "      <td>4.0</td>\n",
              "      <td>MC</td>\n",
              "      <td>LPSA : THEORY : Shadow price non-binding const...</td>\n",
              "      <td>0.0</td>\n",
              "      <td>2.0</td>\n",
              "      <td>2020</td>\n",
              "      <td>LPSA</td>\n",
              "      <td>THEORY</td>\n",
              "      <td>Shadow price non-binding constraint</td>\n",
              "      <td>41</td>\n",
              "      <td>Hmpivxct Sqcqnoqy</td>\n",
              "    </tr>\n",
              "    <tr>\n",
              "      <th>29</th>\n",
              "      <td>11111111</td>\n",
              "      <td>22222222</td>\n",
              "      <td>1</td>\n",
              "      <td>04-05-2020 12:10</td>\n",
              "      <td>04-05-2020 12:55</td>\n",
              "      <td>5.0</td>\n",
              "      <td>SA</td>\n",
              "      <td>MLR : CALC : Jewelry sales from window and value</td>\n",
              "      <td>0.0</td>\n",
              "      <td>4.0</td>\n",
              "      <td>2020</td>\n",
              "      <td>MLR</td>\n",
              "      <td>CALC</td>\n",
              "      <td>Jewelry sales from window and value</td>\n",
              "      <td>60</td>\n",
              "      <td>Hmpivxct Sqcqnoqy</td>\n",
              "    </tr>\n",
              "  </tbody>\n",
              "</table>\n",
              "</div>\n",
              "      <button class=\"colab-df-convert\" onclick=\"convertToInteractive('df-c57dbc93-0d55-4bd8-aaa0-7f7094baff10')\"\n",
              "              title=\"Convert this dataframe to an interactive table.\"\n",
              "              style=\"display:none;\">\n",
              "        \n",
              "  <svg xmlns=\"http://www.w3.org/2000/svg\" height=\"24px\"viewBox=\"0 0 24 24\"\n",
              "       width=\"24px\">\n",
              "    <path d=\"M0 0h24v24H0V0z\" fill=\"none\"/>\n",
              "    <path d=\"M18.56 5.44l.94 2.06.94-2.06 2.06-.94-2.06-.94-.94-2.06-.94 2.06-2.06.94zm-11 1L8.5 8.5l.94-2.06 2.06-.94-2.06-.94L8.5 2.5l-.94 2.06-2.06.94zm10 10l.94 2.06.94-2.06 2.06-.94-2.06-.94-.94-2.06-.94 2.06-2.06.94z\"/><path d=\"M17.41 7.96l-1.37-1.37c-.4-.4-.92-.59-1.43-.59-.52 0-1.04.2-1.43.59L10.3 9.45l-7.72 7.72c-.78.78-.78 2.05 0 2.83L4 21.41c.39.39.9.59 1.41.59.51 0 1.02-.2 1.41-.59l7.78-7.78 2.81-2.81c.8-.78.8-2.07 0-2.86zM5.41 20L4 18.59l7.72-7.72 1.47 1.35L5.41 20z\"/>\n",
              "  </svg>\n",
              "      </button>\n",
              "      \n",
              "  <style>\n",
              "    .colab-df-container {\n",
              "      display:flex;\n",
              "      flex-wrap:wrap;\n",
              "      gap: 12px;\n",
              "    }\n",
              "\n",
              "    .colab-df-convert {\n",
              "      background-color: #E8F0FE;\n",
              "      border: none;\n",
              "      border-radius: 50%;\n",
              "      cursor: pointer;\n",
              "      display: none;\n",
              "      fill: #1967D2;\n",
              "      height: 32px;\n",
              "      padding: 0 0 0 0;\n",
              "      width: 32px;\n",
              "    }\n",
              "\n",
              "    .colab-df-convert:hover {\n",
              "      background-color: #E2EBFA;\n",
              "      box-shadow: 0px 1px 2px rgba(60, 64, 67, 0.3), 0px 1px 3px 1px rgba(60, 64, 67, 0.15);\n",
              "      fill: #174EA6;\n",
              "    }\n",
              "\n",
              "    [theme=dark] .colab-df-convert {\n",
              "      background-color: #3B4455;\n",
              "      fill: #D2E3FC;\n",
              "    }\n",
              "\n",
              "    [theme=dark] .colab-df-convert:hover {\n",
              "      background-color: #434B5C;\n",
              "      box-shadow: 0px 1px 3px 1px rgba(0, 0, 0, 0.15);\n",
              "      filter: drop-shadow(0px 1px 2px rgba(0, 0, 0, 0.3));\n",
              "      fill: #FFFFFF;\n",
              "    }\n",
              "  </style>\n",
              "\n",
              "      <script>\n",
              "        const buttonEl =\n",
              "          document.querySelector('#df-c57dbc93-0d55-4bd8-aaa0-7f7094baff10 button.colab-df-convert');\n",
              "        buttonEl.style.display =\n",
              "          google.colab.kernel.accessAllowed ? 'block' : 'none';\n",
              "\n",
              "        async function convertToInteractive(key) {\n",
              "          const element = document.querySelector('#df-c57dbc93-0d55-4bd8-aaa0-7f7094baff10');\n",
              "          const dataTable =\n",
              "            await google.colab.kernel.invokeFunction('convertToInteractive',\n",
              "                                                     [key], {});\n",
              "          if (!dataTable) return;\n",
              "\n",
              "          const docLinkHtml = 'Like what you see? Visit the ' +\n",
              "            '<a target=\"_blank\" href=https://colab.research.google.com/notebooks/data_table.ipynb>data table notebook</a>'\n",
              "            + ' to learn more about interactive tables.';\n",
              "          element.innerHTML = '';\n",
              "          dataTable['output_type'] = 'display_data';\n",
              "          await google.colab.output.renderOutput(dataTable, element);\n",
              "          const docLink = document.createElement('div');\n",
              "          docLink.innerHTML = docLinkHtml;\n",
              "          element.appendChild(docLink);\n",
              "        }\n",
              "      </script>\n",
              "    </div>\n",
              "  </div>\n",
              "  "
            ]
          },
          "metadata": {},
          "execution_count": 33
        }
      ]
    },
    {
      "cell_type": "code",
      "source": [
        "# Rename the columns to relevant names\n",
        "df = df.rename(columns= {\"Attempt #\": \"Attempt\", \"Section #\": \"Q No\"})"
      ],
      "metadata": {
        "id": "VLB1uNUwO6Qw"
      },
      "execution_count": 34,
      "outputs": []
    },
    {
      "cell_type": "code",
      "source": [
        "#Changing the datatype of QNo to Int\n",
        "df[\"Q No\"] = df[\"Q No\"].astype(\"int64\")"
      ],
      "metadata": {
        "id": "TjRn2HttO5-c"
      },
      "execution_count": 37,
      "outputs": []
    },
    {
      "cell_type": "code",
      "source": [
        "df.info()"
      ],
      "metadata": {
        "colab": {
          "base_uri": "https://localhost:8080/"
        },
        "id": "F2OuLhflB4_2",
        "outputId": "1ca9e31f-cbbe-4d59-9257-aefb33bb5ab0"
      },
      "execution_count": null,
      "outputs": [
        {
          "output_type": "stream",
          "name": "stdout",
          "text": [
            "<class 'pandas.core.frame.DataFrame'>\n",
            "Int64Index: 117111 entries, 6 to 721717\n",
            "Data columns (total 16 columns):\n",
            " #   Column          Non-Null Count   Dtype  \n",
            "---  ------          --------------   -----  \n",
            " 0   Org Defined ID  117111 non-null  int64  \n",
            " 1   Username        117111 non-null  int64  \n",
            " 2   Attempt #       117111 non-null  int64  \n",
            " 3   Attempt Start   117111 non-null  object \n",
            " 4   Attempt End     117111 non-null  object \n",
            " 5   Q No            117111 non-null  int64  \n",
            " 6   Q Type          117111 non-null  object \n",
            " 7   Bonus?          117111 non-null  object \n",
            " 8   Marks           117111 non-null  float64\n",
            " 9   Total           117111 non-null  float64\n",
            " 10  Year            117111 non-null  int64  \n",
            " 11  Topic           117111 non-null  object \n",
            " 12  Question Type   117111 non-null  object \n",
            " 13  Chapter         117111 non-null  object \n",
            " 14  id              117111 non-null  int64  \n",
            " 15  User            117111 non-null  object \n",
            "dtypes: float64(2), int64(6), object(8)\n",
            "memory usage: 15.2+ MB\n"
          ]
        }
      ]
    },
    {
      "cell_type": "code",
      "execution_count": null,
      "metadata": {
        "id": "26rhsXJBmz0K"
      },
      "outputs": [],
      "source": [
        "export_csv_data = df.to_csv('Attempt_Details_Exam_Cleaned.csv')"
      ]
    }
  ]
}